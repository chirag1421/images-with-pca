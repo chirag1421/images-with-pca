{
 "cells": [
  {
   "cell_type": "markdown",
   "id": "36c07f09",
   "metadata": {},
   "source": [
    "### Import all the Libs"
   ]
  },
  {
   "cell_type": "code",
   "execution_count": 14,
   "id": "69a94d6b",
   "metadata": {},
   "outputs": [],
   "source": [
    "#https://medium.com/codex/principal-component-analysis-pca-how-it-works-mathematically-d5de4c7138e6"
   ]
  },
  {
   "cell_type": "code",
   "execution_count": 1,
   "id": "9aa56ede",
   "metadata": {},
   "outputs": [],
   "source": [
    "#IMPORT LIBRARIES\n",
    "import numpy as np\n",
    "import pandas as pd\n",
    "import matplotlib.pyplot as plt\n",
    "from sklearn.decomposition import PCA"
   ]
  },
  {
   "cell_type": "markdown",
   "id": "3f4eeff9",
   "metadata": {},
   "source": [
    "### Prepare the Data"
   ]
  },
  {
   "cell_type": "code",
   "execution_count": 3,
   "id": "6367c376",
   "metadata": {},
   "outputs": [
    {
     "name": "stdout",
     "output_type": "stream",
     "text": [
      "Our toy Dataset:\n"
     ]
    },
    {
     "data": {
      "text/html": [
       "<div>\n",
       "<style scoped>\n",
       "    .dataframe tbody tr th:only-of-type {\n",
       "        vertical-align: middle;\n",
       "    }\n",
       "\n",
       "    .dataframe tbody tr th {\n",
       "        vertical-align: top;\n",
       "    }\n",
       "\n",
       "    .dataframe thead th {\n",
       "        text-align: right;\n",
       "    }\n",
       "</style>\n",
       "<table border=\"1\" class=\"dataframe\">\n",
       "  <thead>\n",
       "    <tr style=\"text-align: right;\">\n",
       "      <th></th>\n",
       "      <th>X</th>\n",
       "      <th>Y</th>\n",
       "    </tr>\n",
       "  </thead>\n",
       "  <tbody>\n",
       "    <tr>\n",
       "      <th>0</th>\n",
       "      <td>2</td>\n",
       "      <td>3</td>\n",
       "    </tr>\n",
       "    <tr>\n",
       "      <th>1</th>\n",
       "      <td>4</td>\n",
       "      <td>5</td>\n",
       "    </tr>\n",
       "    <tr>\n",
       "      <th>2</th>\n",
       "      <td>6</td>\n",
       "      <td>5</td>\n",
       "    </tr>\n",
       "    <tr>\n",
       "      <th>3</th>\n",
       "      <td>6</td>\n",
       "      <td>7</td>\n",
       "    </tr>\n",
       "    <tr>\n",
       "      <th>4</th>\n",
       "      <td>7</td>\n",
       "      <td>8</td>\n",
       "    </tr>\n",
       "    <tr>\n",
       "      <th>5</th>\n",
       "      <td>5</td>\n",
       "      <td>8</td>\n",
       "    </tr>\n",
       "  </tbody>\n",
       "</table>\n",
       "</div>"
      ],
      "text/plain": [
       "   X  Y\n",
       "0  2  3\n",
       "1  4  5\n",
       "2  6  5\n",
       "3  6  7\n",
       "4  7  8\n",
       "5  5  8"
      ]
     },
     "execution_count": 3,
     "metadata": {},
     "output_type": "execute_result"
    }
   ],
   "source": [
    "data = np.array([[2,3],[4,5],[6,5],[6,7],[7,8],[5,8]])\n",
    "df = pd.DataFrame(data = data, columns = ['X', 'Y'])\n",
    "print(\"Our toy Dataset:\")\n",
    "df"
   ]
  },
  {
   "cell_type": "markdown",
   "id": "f5968197",
   "metadata": {},
   "source": [
    "### Perform PCA\n"
   ]
  },
  {
   "cell_type": "markdown",
   "id": "e6fa27b0",
   "metadata": {},
   "source": [
    "### Standardise the data"
   ]
  },
  {
   "cell_type": "code",
   "execution_count": 4,
   "id": "cf132c2b",
   "metadata": {},
   "outputs": [
    {
     "name": "stdout",
     "output_type": "stream",
     "text": [
      "Scaled the data:\n"
     ]
    },
    {
     "data": {
      "text/html": [
       "<div>\n",
       "<style scoped>\n",
       "    .dataframe tbody tr th:only-of-type {\n",
       "        vertical-align: middle;\n",
       "    }\n",
       "\n",
       "    .dataframe tbody tr th {\n",
       "        vertical-align: top;\n",
       "    }\n",
       "\n",
       "    .dataframe thead th {\n",
       "        text-align: right;\n",
       "    }\n",
       "</style>\n",
       "<table border=\"1\" class=\"dataframe\">\n",
       "  <thead>\n",
       "    <tr style=\"text-align: right;\">\n",
       "      <th></th>\n",
       "      <th>X</th>\n",
       "      <th>Y</th>\n",
       "    </tr>\n",
       "  </thead>\n",
       "  <tbody>\n",
       "    <tr>\n",
       "      <th>0</th>\n",
       "      <td>-1.837117</td>\n",
       "      <td>-1.643168</td>\n",
       "    </tr>\n",
       "    <tr>\n",
       "      <th>1</th>\n",
       "      <td>-0.612372</td>\n",
       "      <td>-0.547723</td>\n",
       "    </tr>\n",
       "    <tr>\n",
       "      <th>2</th>\n",
       "      <td>0.612372</td>\n",
       "      <td>-0.547723</td>\n",
       "    </tr>\n",
       "    <tr>\n",
       "      <th>3</th>\n",
       "      <td>0.612372</td>\n",
       "      <td>0.547723</td>\n",
       "    </tr>\n",
       "    <tr>\n",
       "      <th>4</th>\n",
       "      <td>1.224745</td>\n",
       "      <td>1.095445</td>\n",
       "    </tr>\n",
       "    <tr>\n",
       "      <th>5</th>\n",
       "      <td>0.000000</td>\n",
       "      <td>1.095445</td>\n",
       "    </tr>\n",
       "  </tbody>\n",
       "</table>\n",
       "</div>"
      ],
      "text/plain": [
       "          X         Y\n",
       "0 -1.837117 -1.643168\n",
       "1 -0.612372 -0.547723\n",
       "2  0.612372 -0.547723\n",
       "3  0.612372  0.547723\n",
       "4  1.224745  1.095445\n",
       "5  0.000000  1.095445"
      ]
     },
     "execution_count": 4,
     "metadata": {},
     "output_type": "execute_result"
    }
   ],
   "source": [
    "from scipy.stats import zscore\n",
    "df_scaled = df.apply(zscore)\n",
    "print(\"Scaled the data:\")\n",
    "df_scaled"
   ]
  },
  {
   "cell_type": "markdown",
   "id": "5e762c1c",
   "metadata": {},
   "source": [
    "### Find the Covariance matrix of the scaled data"
   ]
  },
  {
   "cell_type": "code",
   "execution_count": 5,
   "id": "a6efd496",
   "metadata": {},
   "outputs": [
    {
     "name": "stdout",
     "output_type": "stream",
     "text": [
      "Covariance Matrix:\n",
      "[[1.2        0.93914855]\n",
      " [0.93914855 1.2       ]]\n"
     ]
    }
   ],
   "source": [
    "cov = np.cov(df_scaled, rowvar = False)\n",
    "print(\"Covariance Matrix:\")\n",
    "print(cov)"
   ]
  },
  {
   "cell_type": "markdown",
   "id": "e0517e76",
   "metadata": {},
   "source": [
    "### Fit the 2-Dimensional Data in PCA"
   ]
  },
  {
   "cell_type": "code",
   "execution_count": 6,
   "id": "9bbdbb73",
   "metadata": {},
   "outputs": [
    {
     "data": {
      "text/plain": [
       "PCA(n_components=2)"
      ]
     },
     "execution_count": 6,
     "metadata": {},
     "output_type": "execute_result"
    }
   ],
   "source": [
    "pca = PCA(n_components=2)\n",
    "pca.fit(df_scaled)"
   ]
  },
  {
   "cell_type": "markdown",
   "id": "2ed1e495",
   "metadata": {},
   "source": [
    "### Find the eigen Value"
   ]
  },
  {
   "cell_type": "code",
   "execution_count": 9,
   "id": "376ade6a",
   "metadata": {},
   "outputs": [
    {
     "name": "stdout",
     "output_type": "stream",
     "text": [
      "Eigen Values:\n",
      "[2.13914855 0.26085145]\n"
     ]
    }
   ],
   "source": [
    "print(\"Eigen Values:\")\n",
    "print(pca.explained_variance_)"
   ]
  },
  {
   "cell_type": "markdown",
   "id": "21bebe71",
   "metadata": {},
   "source": [
    "### Find the eigen vectors"
   ]
  },
  {
   "cell_type": "code",
   "execution_count": 11,
   "id": "9b548037",
   "metadata": {},
   "outputs": [
    {
     "name": "stdout",
     "output_type": "stream",
     "text": [
      "Eigen Vectors:\n",
      "[[-0.70710678 -0.70710678]\n",
      " [ 0.70710678 -0.70710678]]\n"
     ]
    }
   ],
   "source": [
    "print(\"Eigen Vectors:\")\n",
    "print(pca.components_)"
   ]
  },
  {
   "cell_type": "markdown",
   "id": "829ebf3a",
   "metadata": {},
   "source": [
    "here, above we have found eigen vector for two eigen values "
   ]
  },
  {
   "cell_type": "markdown",
   "id": "0904cd93",
   "metadata": {},
   "source": [
    "### Lets plot a bar chart to check the explained variance ratio by each eigen values"
   ]
  },
  {
   "cell_type": "code",
   "execution_count": 12,
   "id": "54f7ac6a",
   "metadata": {},
   "outputs": [
    {
     "data": {
      "image/png": "[encoded data removed]",
      "text/plain": [
       "<Figure size 432x288 with 1 Axes>"
      ]
     },
     "metadata": {
      "needs_background": "light"
     },
     "output_type": "display_data"
    }
   ],
   "source": [
    "plt.bar(list(range(1,3)), pca.explained_variance_ratio_)\n",
    "plt.ylabel(\"Variance Explained\")\n",
    "plt.xlabel(\"Eigen Value\")\n",
    "plt.show()"
   ]
  },
  {
   "cell_type": "markdown",
   "id": "290b3231",
   "metadata": {},
   "source": [
    "### Project Data into new single dimension"
   ]
  },
  {
   "cell_type": "code",
   "execution_count": 13,
   "id": "39751f30",
   "metadata": {},
   "outputs": [
    {
     "name": "stdout",
     "output_type": "stream",
     "text": [
      "Projected Data:\n",
      "[[ 2.46093311]\n",
      " [ 0.82031104]\n",
      " [-0.04571437]\n",
      " [-0.82031104]\n",
      " [-1.64062207]\n",
      " [-0.77459667]]\n"
     ]
    }
   ],
   "source": [
    "pca3 = PCA(n_components=1)\n",
    "pca3.fit(df_scaled)\n",
    "Xpca3 = pca3.transform(df_scaled)\n",
    "print(\"Projected Data:\")\n",
    "print(Xpca3)"
   ]
  },
  {
   "cell_type": "code",
   "execution_count": null,
   "id": "7b2dfbb4",
   "metadata": {},
   "outputs": [],
   "source": []
  }
 ],
 "metadata": {
  "kernelspec": {
   "display_name": "Python 3 (ipykernel)",
   "language": "python",
   "name": "python3"
  },
  "language_info": {
   "codemirror_mode": {
    "name": "ipython",
    "version": 3
   },
   "file_extension": ".py",
   "mimetype": "text/x-python",
   "name": "python",
   "nbconvert_exporter": "python",
   "pygments_lexer": "ipython3",
   "version": "3.9.12"
  }
 },
 "nbformat": 4,
 "nbformat_minor": 5
}
